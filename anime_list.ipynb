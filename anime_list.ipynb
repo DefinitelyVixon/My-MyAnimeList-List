{
 "cells": [
  {
   "cell_type": "code",
   "execution_count": 1,
   "outputs": [],
   "source": [
    "from utils.mal import MyAnimeListAPIHandler\n",
    "from utils.auth import AuthManager\n",
    "from dotenv import load_dotenv\n",
    "from os import getenv"
   ],
   "metadata": {
    "collapsed": false,
    "ExecuteTime": {
     "end_time": "2023-10-12T18:46:29.226217900Z",
     "start_time": "2023-10-12T18:46:29.132187100Z"
    }
   },
   "id": "b5fb0821abc78d65"
  },
  {
   "cell_type": "code",
   "execution_count": 2,
   "outputs": [],
   "source": [
    "load_dotenv()\n",
    "CLIENT_ID = getenv('CLIENT_ID')\n",
    "CLIENT_SECRET = getenv('CLIENT_SECRET')\n",
    "MAL_USERNAME = getenv('MAL_USERNAME')\n",
    "MAL_PASSWORD = getenv('MAL_PASSWORD')"
   ],
   "metadata": {
    "collapsed": false,
    "ExecuteTime": {
     "end_time": "2023-10-12T18:46:29.230689500Z",
     "start_time": "2023-10-12T18:46:29.228299100Z"
    }
   },
   "id": "76ad27f243b3ae6d"
  },
  {
   "cell_type": "markdown",
   "source": [
    "### Creating fresh tokens and saving them\n",
    "```py\n",
    "auth = AuthManager.init_with_credentials(client_id=CLIENT_ID,\n",
    "                                         client_secret=CLIENT_SECRET,\n",
    "                                         mal_username=MAL_USERNAME,\n",
    "                                         mal_password=MAL_PASSWORD)\n",
    "auth.save_tokens(fp='tokens.json')\n",
    "```"
   ],
   "metadata": {
    "collapsed": false
   },
   "id": "d8039ea2f88c7123"
  },
  {
   "cell_type": "code",
   "execution_count": 3,
   "outputs": [],
   "source": [
    "auth = AuthManager.init_with_tokens(fp='tokens.json')"
   ],
   "metadata": {
    "collapsed": false,
    "ExecuteTime": {
     "end_time": "2023-10-12T18:46:29.234684800Z",
     "start_time": "2023-10-12T18:46:29.230689500Z"
    }
   },
   "id": "457688724c130989"
  },
  {
   "cell_type": "code",
   "execution_count": 4,
   "outputs": [],
   "source": [
    "mal = MyAnimeListAPIHandler(authenticator=auth)"
   ],
   "metadata": {
    "collapsed": false,
    "ExecuteTime": {
     "end_time": "2023-10-12T18:46:29.238674900Z",
     "start_time": "2023-10-12T18:46:29.235681800Z"
    }
   },
   "id": "852d42ff30d8db9d"
  },
  {
   "cell_type": "code",
   "execution_count": 5,
   "outputs": [
    {
     "data": {
      "text/plain": "{'data': [{'node': {'id': 1535,\n    'title': 'Death Note',\n    'main_picture': {'medium': 'https://cdn.myanimelist.net/images/anime/1079/138100.jpg',\n     'large': 'https://cdn.myanimelist.net/images/anime/1079/138100l.jpg'}},\n   'list_status': {'status': 'completed',\n    'score': 10,\n    'num_episodes_watched': 37,\n    'is_rewatching': False,\n    'updated_at': '2023-09-26T23:40:57+00:00',\n    'finish_date': '2015-09-09'}}],\n 'paging': {'next': 'https://api.myanimelist.net/v2/users/Vixon/animelist?offset=1&limit=1&sort=list_score&status=completed&fields=list_status'}}"
     },
     "execution_count": 5,
     "metadata": {},
     "output_type": "execute_result"
    }
   ],
   "source": [
    "mal.get_user_anime_list(user_name='Vixon', \n",
    "                        status='completed', \n",
    "                        fields='list_status', \n",
    "                        limit=1,\n",
    "                        sort='list_score')"
   ],
   "metadata": {
    "collapsed": false,
    "ExecuteTime": {
     "end_time": "2023-10-12T18:46:29.903330800Z",
     "start_time": "2023-10-12T18:46:29.239672600Z"
    }
   },
   "id": "3823c03f3e1e4703"
  }
 ],
 "metadata": {
  "kernelspec": {
   "display_name": "Python 3",
   "language": "python",
   "name": "python3"
  },
  "language_info": {
   "codemirror_mode": {
    "name": "ipython",
    "version": 2
   },
   "file_extension": ".py",
   "mimetype": "text/x-python",
   "name": "python",
   "nbconvert_exporter": "python",
   "pygments_lexer": "ipython2",
   "version": "2.7.6"
  }
 },
 "nbformat": 4,
 "nbformat_minor": 5
}
