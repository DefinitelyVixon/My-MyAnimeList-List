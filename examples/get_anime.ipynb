{
 "cells": [
  {
   "cell_type": "code",
   "outputs": [],
   "source": [
    "from utils.mal import MyAnimeListAPIHandler\n",
    "from utils.auth import AuthManager\n",
    "\n",
    "auth = AuthManager.init_with_tokens(fp='../tokens.json')\n",
    "mal = MyAnimeListAPIHandler(authenticator=auth)"
   ],
   "metadata": {
    "collapsed": false,
    "ExecuteTime": {
     "end_time": "2024-02-13T05:33:03.822725700Z",
     "start_time": "2024-02-13T05:33:03.718110Z"
    }
   },
   "id": "b48cdb669bb750dd",
   "execution_count": 1
  },
  {
   "cell_type": "code",
   "outputs": [
    {
     "data": {
      "text/plain": "[{'node': {'id': 30831,\n   'title': 'Kono Subarashii Sekai ni Shukufuku wo!',\n   'main_picture': {'medium': 'https://cdn.myanimelist.net/images/anime/8/77831.jpg',\n    'large': 'https://cdn.myanimelist.net/images/anime/8/77831l.jpg'}}},\n {'node': {'id': 32937,\n   'title': 'Kono Subarashii Sekai ni Shukufuku wo! 2',\n   'main_picture': {'medium': 'https://cdn.myanimelist.net/images/anime/2/83188.jpg',\n    'large': 'https://cdn.myanimelist.net/images/anime/2/83188l.jpg'}}},\n {'node': {'id': 38040,\n   'title': 'Kono Subarashii Sekai ni Shukufuku wo! Movie: Kurenai Densetsu',\n   'main_picture': {'medium': 'https://cdn.myanimelist.net/images/anime/1638/119321.jpg',\n    'large': 'https://cdn.myanimelist.net/images/anime/1638/119321l.jpg'}}},\n {'node': {'id': 51958,\n   'title': 'Kono Subarashii Sekai ni Bakuen wo!',\n   'main_picture': {'medium': 'https://cdn.myanimelist.net/images/anime/1626/135844.jpg',\n    'large': 'https://cdn.myanimelist.net/images/anime/1626/135844l.jpg'}}},\n {'node': {'id': 49458,\n   'title': 'Kono Subarashii Sekai ni Shukufuku wo! 3',\n   'main_picture': {'medium': 'https://cdn.myanimelist.net/images/anime/1758/141268.jpg',\n    'large': 'https://cdn.myanimelist.net/images/anime/1758/141268l.jpg'}}}]"
     },
     "execution_count": 2,
     "metadata": {},
     "output_type": "execute_result"
    }
   ],
   "source": [
    "mal.get_anime_dict(q='Konosuba', limit=5)"
   ],
   "metadata": {
    "collapsed": false,
    "ExecuteTime": {
     "end_time": "2024-02-13T05:33:04.574458Z",
     "start_time": "2024-02-13T05:33:03.822725700Z"
    }
   },
   "id": "8dbee168005f1a9d",
   "execution_count": 2
  }
 ],
 "metadata": {
  "kernelspec": {
   "display_name": "Python 3",
   "language": "python",
   "name": "python3"
  },
  "language_info": {
   "codemirror_mode": {
    "name": "ipython",
    "version": 2
   },
   "file_extension": ".py",
   "mimetype": "text/x-python",
   "name": "python",
   "nbconvert_exporter": "python",
   "pygments_lexer": "ipython2",
   "version": "2.7.6"
  }
 },
 "nbformat": 4,
 "nbformat_minor": 5
}
