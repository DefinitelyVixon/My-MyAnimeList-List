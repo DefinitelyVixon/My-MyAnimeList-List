{
 "cells": [
  {
   "cell_type": "code",
   "execution_count": 1,
   "id": "initial_id",
   "metadata": {
    "collapsed": true,
    "ExecuteTime": {
     "end_time": "2024-02-13T05:32:39.296902600Z",
     "start_time": "2024-02-13T05:32:39.194150700Z"
    }
   },
   "outputs": [],
   "source": [
    "from utils.mal import MyAnimeListAPIHandler\n",
    "from utils.auth import AuthManager\n",
    "\n",
    "auth = AuthManager.init_with_tokens(fp='../tokens.json')\n",
    "mal = MyAnimeListAPIHandler(authenticator=auth)"
   ]
  },
  {
   "cell_type": "code",
   "outputs": [
    {
     "data": {
      "text/plain": "{'node': {'id': 30831,\n  'title': 'Kono Subarashii Sekai ni Shukufuku wo!',\n  'main_picture': {'medium': 'https://cdn.myanimelist.net/images/anime/8/77831.jpg',\n   'large': 'https://cdn.myanimelist.net/images/anime/8/77831l.jpg'}}}"
     },
     "execution_count": 2,
     "metadata": {},
     "output_type": "execute_result"
    }
   ],
   "source": [
    "anime_dict = mal.get_anime_dict(q='konosuba', limit=1)[0]\n",
    "anime_dict"
   ],
   "metadata": {
    "collapsed": false,
    "ExecuteTime": {
     "end_time": "2024-02-13T05:32:40.181801500Z",
     "start_time": "2024-02-13T05:32:39.297905100Z"
    }
   },
   "id": "b53e02fb737dc177",
   "execution_count": 2
  },
  {
   "cell_type": "code",
   "outputs": [
    {
     "data": {
      "text/plain": "[RelatedAnimeObject(30831, \"Kono Subarashii Sekai ni Shukufuku wo!\"),\n RelatedAnimeObject(51958, \"Kono Subarashii Sekai ni Bakuen wo!\"),\n RelatedAnimeObject(32937, \"Kono Subarashii Sekai ni Shukufuku wo! 2\"),\n RelatedAnimeObject(38040, \"Kono Subarashii Sekai ni Shukufuku wo! Movie: Kurenai Densetsu\"),\n RelatedAnimeObject(49458, \"Kono Subarashii Sekai ni Shukufuku wo! 3\"),\n RelatedAnimeObject(34626, \"Kono Subarashii Sekai ni Shukufuku wo! 2: Kono Subarashii Geijutsu ni Shukufuku wo!\"),\n RelatedAnimeObject(32380, \"Kono Subarashii Sekai ni Shukufuku wo! Kono Subarashii Choker ni Shukufuku wo!\")]"
     },
     "execution_count": 3,
     "metadata": {},
     "output_type": "execute_result"
    }
   ],
   "source": [
    "related_anime = mal.get_all_related_anime(anime_dict, fields=['related_anime', 'start_date'])\n",
    "related_anime"
   ],
   "metadata": {
    "collapsed": false,
    "ExecuteTime": {
     "end_time": "2024-02-13T05:32:44.653743700Z",
     "start_time": "2024-02-13T05:32:40.181801500Z"
    }
   },
   "id": "a67145da80f6e19",
   "execution_count": 3
  },
  {
   "cell_type": "code",
   "outputs": [
    {
     "data": {
      "text/plain": "[RelatedAnimeObject(30831, \"Kono Subarashii Sekai ni Shukufuku wo!\"),\n RelatedAnimeObject(32380, \"Kono Subarashii Sekai ni Shukufuku wo! Kono Subarashii Choker ni Shukufuku wo!\"),\n RelatedAnimeObject(32937, \"Kono Subarashii Sekai ni Shukufuku wo! 2\"),\n RelatedAnimeObject(34626, \"Kono Subarashii Sekai ni Shukufuku wo! 2: Kono Subarashii Geijutsu ni Shukufuku wo!\"),\n RelatedAnimeObject(38040, \"Kono Subarashii Sekai ni Shukufuku wo! Movie: Kurenai Densetsu\"),\n RelatedAnimeObject(51958, \"Kono Subarashii Sekai ni Bakuen wo!\"),\n RelatedAnimeObject(49458, \"Kono Subarashii Sekai ni Shukufuku wo! 3\")]"
     },
     "execution_count": 4,
     "metadata": {},
     "output_type": "execute_result"
    }
   ],
   "source": [
    "anime_sorted_by_release_date = list(sorted(related_anime, key=lambda x: x.start_date))\n",
    "anime_sorted_by_release_date"
   ],
   "metadata": {
    "collapsed": false,
    "ExecuteTime": {
     "end_time": "2024-02-13T05:32:44.658Z",
     "start_time": "2024-02-13T05:32:44.653743700Z"
    }
   },
   "id": "889b0d3234bd1fdd",
   "execution_count": 4
  }
 ],
 "metadata": {
  "kernelspec": {
   "display_name": "Python 3",
   "language": "python",
   "name": "python3"
  },
  "language_info": {
   "codemirror_mode": {
    "name": "ipython",
    "version": 2
   },
   "file_extension": ".py",
   "mimetype": "text/x-python",
   "name": "python",
   "nbconvert_exporter": "python",
   "pygments_lexer": "ipython2",
   "version": "2.7.6"
  }
 },
 "nbformat": 4,
 "nbformat_minor": 5
}
