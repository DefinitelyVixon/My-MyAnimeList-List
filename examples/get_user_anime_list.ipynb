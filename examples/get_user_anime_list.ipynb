{
 "cells": [
  {
   "cell_type": "code",
   "execution_count": 1,
   "outputs": [],
   "source": [
    "from utils.mal import MyAnimeListAPIHandler\n",
    "from utils.auth import AuthManager\n",
    "\n",
    "auth = AuthManager.init_with_tokens(fp='../tokens.json')\n",
    "mal = MyAnimeListAPIHandler(authenticator=auth)"
   ],
   "metadata": {
    "collapsed": false,
    "ExecuteTime": {
     "end_time": "2024-02-13T05:33:16.049518900Z",
     "start_time": "2024-02-13T05:33:15.938446700Z"
    }
   },
   "id": "b5fb0821abc78d65"
  },
  {
   "cell_type": "code",
   "execution_count": 2,
   "outputs": [
    {
     "data": {
      "text/plain": "{'data': [{'node': {'id': 2904,\n    'title': 'Code Geass: Hangyaku no Lelouch R2',\n    'main_picture': {'medium': 'https://cdn.myanimelist.net/images/anime/1088/135089.jpg',\n     'large': 'https://cdn.myanimelist.net/images/anime/1088/135089l.jpg'}},\n   'list_status': {'status': 'completed',\n    'score': 10,\n    'num_episodes_watched': 25,\n    'is_rewatching': False,\n    'updated_at': '2016-10-08T23:28:21+00:00',\n    'start_date': '2016-09-28',\n    'finish_date': '2016-10-09'}}],\n 'paging': {'next': 'https://api.myanimelist.net/v2/users/Vixon/animelist?offset=1&limit=1&sort=list_score&status=completed&fields=list_status'}}"
     },
     "execution_count": 2,
     "metadata": {},
     "output_type": "execute_result"
    }
   ],
   "source": [
    "mal.get_user_anime_list(user_name='Vixon', \n",
    "                        status='completed', \n",
    "                        fields=['list_status'], \n",
    "                        limit=1,\n",
    "                        sort='list_score')"
   ],
   "metadata": {
    "collapsed": false,
    "ExecuteTime": {
     "end_time": "2024-02-13T05:33:16.832915600Z",
     "start_time": "2024-02-13T05:33:16.050519200Z"
    }
   },
   "id": "3823c03f3e1e4703"
  }
 ],
 "metadata": {
  "kernelspec": {
   "display_name": "Python 3",
   "language": "python",
   "name": "python3"
  },
  "language_info": {
   "codemirror_mode": {
    "name": "ipython",
    "version": 2
   },
   "file_extension": ".py",
   "mimetype": "text/x-python",
   "name": "python",
   "nbconvert_exporter": "python",
   "pygments_lexer": "ipython2",
   "version": "2.7.6"
  }
 },
 "nbformat": 4,
 "nbformat_minor": 5
}
